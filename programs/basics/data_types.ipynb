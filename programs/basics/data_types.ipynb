{
 "cells": [
  {
   "attachments": {},
   "cell_type": "markdown",
   "metadata": {},
   "source": [
    "# Data Types and Variables\n",
    "\n",
    "## Three main Data Types:\n",
    "- Numbers [int, float, complex]\n",
    "- Strings\n",
    "- Booleans [True, False]\n",
    "\n",
    "## Variables\n",
    "- A variable is simply a name to which a value can be assigned.\n",
    "- Variables are mutable and can be reassigned.\n",
    "\n",
    "## Naming Convention\n",
    "- Variable names can contain letters, numbers, and underscores.\n",
    "- The name can start with an upper or lower case alphabet.\n",
    "- All name are case sensitive.\n",
    "- Number can appear in the name, but not at the beginning.\n",
    "- `_` character can appear anywhere in the name.\n",
    "- Spacing are not allowed in the name. We must use snake_case to separate words.\n",
    "- Name of the variable should be descriptive and meaningful."
   ]
  },
  {
   "attachments": {},
   "cell_type": "markdown",
   "metadata": {},
   "source": [
    "# Numbers\n",
    "\n",
    "## Three types of numbers:\n",
    "- Integers\n",
    "- Floating point numbers\n",
    "- Complex numbers\n",
    "\n",
    "## Integers\n",
    "- The integer data type is comprised of all the positive and negative whole numbers.\n",
    "- The amount of memory an integer occupies depends on its value.\n",
    "- All negative integers start with a `-` sign.\n",
    "\n",
    "## Floating point numbers\n",
    "- Floating-point numbers, or floats, refer to positive and negative decimal numbers.\n",
    "- This ensures accurate computations for precise values.\n",
    "- A float occupies 24 bytes of memory.\n",
    "\n",
    "## Complex numbers\n",
    "- Complex numbers are represented by the real and imaginary parts.\n",
    "- It requires two values. The first one will be the real part of the complex number, while the second value will be the imaginary part.\n",
    "- The imaginary part is denoted by `j` or `J`.\n",
    "- A complex number usually takes up 32 bytes of memory."
   ]
  },
  {
   "attachments": {},
   "cell_type": "markdown",
   "metadata": {},
   "source": [
    "# Boolean\n",
    "\n",
    "## Boolean data type\n",
    "- The Boolean (also known as bool) data type allows us to choose between two values: true and false.\n",
    "- The Boolean data type is used to represent the truth value of an expression.\n",
    "- The first letter of a bool needs to be capitalized in Python."
   ]
  },
  {
   "attachments": {},
   "cell_type": "markdown",
   "metadata": {},
   "source": [
    "# Strings\n",
    "\n",
    "- A string is a collection of characters closed within single, double or triple quotation marks.\n",
    "- A string can also contain a single character or be entirely empty.\n",
    "- To add a multi-line string we can use triple quotes.\n",
    "- A blank space inside the string quotation marks is also considered to be a character.\n",
    "\n",
    "## Length of a string\n",
    "- The length of a string can be found using the `len()` built-in function.\n",
    "- In a string, every character is given a numerical index based on its position.\n",
    "\n",
    "## Indexing\n",
    "- A string in Python is indexed from 0 to n-1 where n is its length. This means that the index of the first character in a string is 0.\n",
    "\n",
    "## Accesing Characters\n",
    "- Each character in a string can be accessed using its index. The index must be closed within square brackets, [], and appended to the string.\n",
    "\n",
    "## Reversing Indexing\n",
    "- The index of the last character in a string can be accessed using a negative index.\n",
    "- We can also change our indexing convention by using negative indices.\n",
    "- Negative indices start from the opposite end of the string. Hence, the -1 index corresponds to the last character:\n",
    "\n",
    "## String Immutability\n",
    "- Strings are immutable, which means that they cannot be changed once they are created.\n",
    "- Remember, assigning a new value to string variable doesn’t mean that you’ve changed the value. Instead, you’ve reassigned the variable to a new string.\n",
    "\n",
    "## ASCII vs Unicode\n",
    "- ASCII is a 7-bit character set that can represent 128 different characters.\n",
    "- Unicode is a 16-bit character set that can represent 65,536 different characters.\n",
    "- In Python 3.x, all strings are unicode. But, older versions of Python (Python 2.x) support only ASCII characters. To use unicode in Python 2.x, preceding the string with a u is must."
   ]
  },
  {
   "attachments": {},
   "cell_type": "markdown",
   "metadata": {},
   "source": [
    "# None Keyword\n",
    "\n",
    "## NoneType\n",
    "- None is a special keyword in Python that represents the absence of a value.\n",
    "- Has a single value, None.\n",
    "- Can be assigned to any variable, but it is not possible to create other NoneType objects.\n",
    "- None is not a default value for any variable.\n",
    "- None is not the same as 0, False, or an empty string. None is a datatype of its own (NoneType) and only None can be None. \n"
   ]
  },
  {
   "cell_type": "code",
   "execution_count": null,
   "metadata": {},
   "outputs": [],
   "source": []
  }
 ],
 "metadata": {
  "kernelspec": {
   "display_name": "Python 3",
   "language": "python",
   "name": "python3"
  },
  "language_info": {
   "name": "python",
   "version": "3.10.6 (tags/v3.10.6:9c7b4bd, Aug  1 2022, 21:53:49) [MSC v.1932 64 bit (AMD64)]"
  },
  "orig_nbformat": 4,
  "vscode": {
   "interpreter": {
    "hash": "6807382f9c4ccc353599ea35ebe14a706238d0ef2846a12f25b7248fecafa46a"
   }
  }
 },
 "nbformat": 4,
 "nbformat_minor": 2
}
